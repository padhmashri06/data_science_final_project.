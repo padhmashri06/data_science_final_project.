{
 "cells": [
  {
   "cell_type": "markdown",
   "id": "582415e3",
   "metadata": {},
   "source": [
    "# My Data Science Final Project - Jupyterlite Notebook"
   ]
  },
  {
   "cell_type": "markdown",
   "id": "ce89ec90",
   "metadata": {},
   "source": [
    "This notebook introduces various data science languages, libraries, tools, and simple arithmetic operations."
   ]
  },
  {
   "cell_type": "markdown",
   "id": "cf812b65",
   "metadata": {},
   "source": [
    "## Data Science Languages\n",
    "1. Python\n",
    "2. R\n",
    "3. SQL\n",
    "4. Julia\n",
    "5. Scala"
   ]
  },
  {
   "cell_type": "markdown",
   "id": "3c9f5d71",
   "metadata": {},
   "source": [
    "## Data Science Libraries\n",
    "1. NumPy\n",
    "2. Pandas\n",
    "3. Matplotlib\n",
    "4. Scikit-learn\n",
    "5. TensorFlow"
   ]
  },
  {
   "cell_type": "markdown",
   "id": "a0bf2572",
   "metadata": {},
   "source": [
    "## Data Science Tools\n",
    "| Tool          | Description                  |\n",
    "|---------------|------------------------------|\n",
    "| Jupyter       | Interactive computing notebook |\n",
    "| Apache Spark  | Big data processing engine    |\n",
    "| Tableau       | Data visualization software   |\n",
    "| GitHub        | Code hosting platform         |\n",
    "| VS Code       | Code editor                  |"
   ]
  },
  {
   "cell_type": "markdown",
   "id": "aa879d61",
   "metadata": {},
   "source": [
    "## Arithmetic Expression Examples\n",
    "Below are some basic arithmetic operations performed using Python."
   ]
  },
  {
   "cell_type": "code",
   "execution_count": null,
   "id": "c8332fe4",
   "metadata": {},
   "outputs": [],
   "source": [
    "result = (5 * 3) + 10\n",
    "result"
   ]
  },
  {
   "cell_type": "code",
   "execution_count": null,
   "id": "60815d55",
   "metadata": {},
   "outputs": [],
   "source": [
    "minutes = 135\n",
    "hours = minutes / 60\n",
    "hours"
   ]
  },
  {
   "cell_type": "markdown",
   "id": "a938716b",
   "metadata": {},
   "source": [
    "## Objectives\n",
    "- Learn about popular data science languages and libraries\n",
    "- Understand common data science tools\n",
    "- Practice simple arithmetic operations in Python\n",
    "- Convert time units using code"
   ]
  },
  {
   "cell_type": "markdown",
   "id": "d0b9a51b",
   "metadata": {},
   "source": [
    "### Author\n",
    "Padhmashri ka"
   ]
  }
 ],
 "metadata": {},
 "nbformat": 4,
 "nbformat_minor": 5
}
